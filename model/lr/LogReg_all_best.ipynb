{
 "cells": [
  {
   "cell_type": "code",
   "execution_count": 1,
   "outputs": [],
   "source": [
    "import pandas as pd\n",
    "from sklearn.model_selection import train_test_split\n",
    "from sklearn.metrics import accuracy_score, f1_score, roc_auc_score, matthews_corrcoef, classification_report\n",
    "from sklearn.preprocessing import StandardScaler\n",
    "import numpy as np\n",
    "import matplotlib.pyplot as plt\n",
    "from collections import defaultdict\n",
    "from sklearn.linear_model import LogisticRegression"
   ],
   "metadata": {
    "collapsed": false,
    "ExecuteTime": {
     "end_time": "2024-11-01T11:42:04.123018100Z",
     "start_time": "2024-11-01T11:42:03.105881300Z"
    }
   }
  },
  {
   "cell_type": "code",
   "execution_count": 2,
   "metadata": {
    "collapsed": true,
    "ExecuteTime": {
     "end_time": "2024-11-01T11:42:04.708373700Z",
     "start_time": "2024-11-01T11:42:04.696075500Z"
    }
   },
   "outputs": [],
   "source": [
    "# Step 1: Load the dataset\n",
    "data_file = r'E:\\AAASchoolLearning\\StudyResource\\GraduateNTU\\ProjectSum\\DSThinkingProject\\SVM\\S1Data.csv'\n",
    "data = pd.read_csv(data_file)"
   ]
  },
  {
   "cell_type": "code",
   "execution_count": 3,
   "outputs": [],
   "source": [
    "# Step 2: Separate features and target\n",
    "X = data.drop(['Event', 'TIME'], axis=1)  # Features\n",
    "y = data['Event']  # Target (Event column)\n",
    "feature_names = X.columns"
   ],
   "metadata": {
    "collapsed": false,
    "ExecuteTime": {
     "end_time": "2024-11-01T11:42:05.430580800Z",
     "start_time": "2024-11-01T11:42:05.417577900Z"
    }
   }
  },
  {
   "cell_type": "code",
   "execution_count": 4,
   "outputs": [],
   "source": [
    "# Step 3: Initialize results dictionary for multiple runs\n",
    "results = {'accuracy': [], 'f1_score': [], 'roc_auc': [], 'mcc': []}\n",
    "feature_rankings = []"
   ],
   "metadata": {
    "collapsed": false,
    "ExecuteTime": {
     "end_time": "2024-11-01T11:42:06.058550700Z",
     "start_time": "2024-11-01T11:42:06.024542800Z"
    }
   }
  },
  {
   "cell_type": "code",
   "execution_count": 5,
   "outputs": [
    {
     "name": "stdout",
     "output_type": "stream",
     "text": [
      "\n",
      "Experiment 1/100\n",
      "\n",
      "Experiment 2/100\n",
      "\n",
      "Experiment 3/100\n",
      "\n",
      "Experiment 4/100\n",
      "\n",
      "Experiment 5/100\n",
      "\n",
      "Experiment 6/100\n",
      "\n",
      "Experiment 7/100\n",
      "\n",
      "Experiment 8/100\n",
      "\n",
      "Experiment 9/100\n",
      "\n",
      "Experiment 10/100\n",
      "\n",
      "Experiment 11/100\n",
      "\n",
      "Experiment 12/100\n",
      "\n",
      "Experiment 13/100\n",
      "\n",
      "Experiment 14/100\n",
      "\n",
      "Experiment 15/100\n",
      "\n",
      "Experiment 16/100\n",
      "\n",
      "Experiment 17/100\n",
      "\n",
      "Experiment 18/100\n",
      "\n",
      "Experiment 19/100\n",
      "\n",
      "Experiment 20/100\n",
      "\n",
      "Experiment 21/100\n",
      "\n",
      "Experiment 22/100\n",
      "\n",
      "Experiment 23/100\n",
      "\n",
      "Experiment 24/100\n",
      "\n",
      "Experiment 25/100\n",
      "\n",
      "Experiment 26/100\n",
      "\n",
      "Experiment 27/100\n",
      "\n",
      "Experiment 28/100\n",
      "\n",
      "Experiment 29/100\n",
      "\n",
      "Experiment 30/100\n",
      "\n",
      "Experiment 31/100\n",
      "\n",
      "Experiment 32/100\n",
      "\n",
      "Experiment 33/100\n",
      "\n",
      "Experiment 34/100\n",
      "\n",
      "Experiment 35/100\n",
      "\n",
      "Experiment 36/100\n",
      "\n",
      "Experiment 37/100\n",
      "\n",
      "Experiment 38/100\n",
      "\n",
      "Experiment 39/100\n",
      "\n",
      "Experiment 40/100\n",
      "\n",
      "Experiment 41/100\n",
      "\n",
      "Experiment 42/100\n",
      "\n",
      "Experiment 43/100\n",
      "\n",
      "Experiment 44/100\n",
      "\n",
      "Experiment 45/100\n",
      "\n",
      "Experiment 46/100\n",
      "\n",
      "Experiment 47/100\n",
      "\n",
      "Experiment 48/100\n",
      "\n",
      "Experiment 49/100\n",
      "\n",
      "Experiment 50/100\n",
      "\n",
      "Experiment 51/100\n",
      "\n",
      "Experiment 52/100\n",
      "\n",
      "Experiment 53/100\n",
      "\n",
      "Experiment 54/100\n",
      "\n",
      "Experiment 55/100\n",
      "\n",
      "Experiment 56/100\n",
      "\n",
      "Experiment 57/100\n",
      "\n",
      "Experiment 58/100\n",
      "\n",
      "Experiment 59/100\n",
      "\n",
      "Experiment 60/100\n",
      "\n",
      "Experiment 61/100\n",
      "\n",
      "Experiment 62/100\n",
      "\n",
      "Experiment 63/100\n",
      "\n",
      "Experiment 64/100\n",
      "\n",
      "Experiment 65/100\n",
      "\n",
      "Experiment 66/100\n",
      "\n",
      "Experiment 67/100\n",
      "\n",
      "Experiment 68/100\n",
      "\n",
      "Experiment 69/100\n",
      "\n",
      "Experiment 70/100\n",
      "\n",
      "Experiment 71/100\n",
      "\n",
      "Experiment 72/100\n",
      "\n",
      "Experiment 73/100\n",
      "\n",
      "Experiment 74/100\n",
      "\n",
      "Experiment 75/100\n",
      "\n",
      "Experiment 76/100\n",
      "\n",
      "Experiment 77/100\n",
      "\n",
      "Experiment 78/100\n",
      "\n",
      "Experiment 79/100\n",
      "\n",
      "Experiment 80/100\n",
      "\n",
      "Experiment 81/100\n",
      "\n",
      "Experiment 82/100\n",
      "\n",
      "Experiment 83/100\n",
      "\n",
      "Experiment 84/100\n",
      "\n",
      "Experiment 85/100\n",
      "\n",
      "Experiment 86/100\n",
      "\n",
      "Experiment 87/100\n",
      "\n",
      "Experiment 88/100\n",
      "\n",
      "Experiment 89/100\n",
      "\n",
      "Experiment 90/100\n",
      "\n",
      "Experiment 91/100\n",
      "\n",
      "Experiment 92/100\n",
      "\n",
      "Experiment 93/100\n",
      "\n",
      "Experiment 94/100\n",
      "\n",
      "Experiment 95/100\n",
      "\n",
      "Experiment 96/100\n",
      "\n",
      "Experiment 97/100\n",
      "\n",
      "Experiment 98/100\n",
      "\n",
      "Experiment 99/100\n",
      "\n",
      "Experiment 100/100\n"
     ]
    }
   ],
   "source": [
    "# Step 4: Run the experiment 100 times\n",
    "for i in range(100):\n",
    "    print(f'\\nExperiment {i + 1}/100')\n",
    "    # Split the dataset into training and testing sets\n",
    "    X_train, X_test, y_train, y_test = train_test_split(X, y, test_size=0.3, random_state=i)\n",
    "\n",
    "    # Standardize the feature data\n",
    "    scaler = StandardScaler()\n",
    "    X_train = scaler.fit_transform(X_train)\n",
    "    X_test = scaler.transform(X_test)\n",
    "\n",
    "    # Train and evaluate the Logistic Regression model\n",
    "    logreg_model = LogisticRegression(random_state=42, max_iter=10000, C=1, penalty='l2', solver='liblinear')\n",
    "    logreg_model.fit(X_train, y_train)\n",
    "\n",
    "    # Make predictions\n",
    "    y_prob = logreg_model.predict_proba(X_test)[:, 1]\n",
    "    y_pred = (y_prob >= 0.5).astype(int)\n",
    "\n",
    "    # Collect the evaluation metrics\n",
    "    accuracy = accuracy_score(y_test, y_pred)\n",
    "    f1 = f1_score(y_test, y_pred, average='weighted')\n",
    "    roc_auc = roc_auc_score(y_test, y_prob, average='weighted')\n",
    "    mcc = matthews_corrcoef(y_test, y_pred)\n",
    "\n",
    "    results['accuracy'].append(accuracy)\n",
    "    results['f1_score'].append(f1)\n",
    "    results['roc_auc'].append(roc_auc)\n",
    "    results['mcc'].append(mcc)\n",
    "\n",
    "    # Step 5: Feature Ranking\n",
    "    feature_importance = np.abs(logreg_model.coef_[0])\n",
    "    feature_ranking = sorted(zip(feature_names, feature_importance), key=lambda x: x[1], reverse=True)\n",
    "    feature_rankings.append([feature for feature, _ in feature_ranking])"
   ],
   "metadata": {
    "collapsed": false,
    "ExecuteTime": {
     "end_time": "2024-11-01T11:42:07.244638900Z",
     "start_time": "2024-11-01T11:42:06.612544600Z"
    }
   }
  },
  {
   "cell_type": "code",
   "execution_count": 6,
   "outputs": [
    {
     "name": "stdout",
     "output_type": "stream",
     "text": [
      "\n",
      "Average Feature Ranking:\n",
      "1. Feature: Ejection.Fraction, Average Rank: 1.51\n",
      "2. Feature: Creatinine, Average Rank: 2.14\n",
      "3. Feature: Age, Average Rank: 2.37\n",
      "4. Feature: CPK, Average Rank: 5.33\n",
      "5. Feature: Sodium, Average Rank: 5.94\n",
      "6. Feature: BP, Average Rank: 6.75\n",
      "7. Feature: Anaemia, Average Rank: 7.15\n",
      "8. Feature: Gender, Average Rank: 7.77\n",
      "9. Feature: Diabetes, Average Rank: 8.73\n",
      "10. Feature: Pletelets, Average Rank: 9.07\n",
      "11. Feature: Smoking, Average Rank: 9.24\n"
     ]
    }
   ],
   "source": [
    "# Step 6: Calculate average feature ranking\n",
    "feature_rank_count = defaultdict(int)\n",
    "for ranking in feature_rankings:\n",
    "    for rank, feature in enumerate(ranking):\n",
    "        feature_rank_count[feature] += rank + 1\n",
    "\n",
    "average_ranking = sorted(feature_rank_count.items(), key=lambda x: x[1] / len(feature_rankings))\n",
    "\n",
    "print(\"\\nAverage Feature Ranking:\")\n",
    "for rank, (feature, total_rank) in enumerate(average_ranking, start=1):\n",
    "    print(f\"{rank}. Feature: {feature}, Average Rank: {total_rank / len(feature_rankings):.2f}\")"
   ],
   "metadata": {
    "collapsed": false,
    "ExecuteTime": {
     "end_time": "2024-11-01T11:42:10.837334100Z",
     "start_time": "2024-11-01T11:42:10.818064200Z"
    }
   }
  },
  {
   "cell_type": "code",
   "execution_count": 19,
   "outputs": [
    {
     "data": {
      "text/plain": "<Figure size 1000x600 with 1 Axes>",
      "image/png": "[encoded data removed]"
     },
     "metadata": {},
     "output_type": "display_data"
    }
   ],
   "source": [
    "# Visualize the average feature ranking\n",
    "features, avg_ranks = zip(*[(feature, total_rank / len(feature_rankings)) for feature, total_rank in average_ranking])\n",
    "plt.figure(figsize=(10, 6))\n",
    "plt.barh(features, avg_ranks, color='skyblue', height=0.5)\n",
    "plt.xlabel('Average Rank')\n",
    "plt.title('Average Feature Ranking Over 100 Runs (Logistics Regression)')\n",
    "plt.gca().invert_yaxis()\n",
    "for i, v in enumerate(avg_ranks):\n",
    "    plt.text(v + 0.01, i, f'{v:.2f}', va='center')\n",
    "plt.tight_layout()\n",
    "plt.show()"
   ],
   "metadata": {
    "collapsed": false,
    "ExecuteTime": {
     "end_time": "2024-11-01T11:54:28.110548500Z",
     "start_time": "2024-11-01T11:54:27.969320300Z"
    }
   }
  },
  {
   "cell_type": "code",
   "execution_count": 55,
   "outputs": [],
   "source": [
    "# Save the average feature ranking to a text file\n",
    "afr_file = r'E:\\AAASchoolLearning\\StudyResource\\GraduateNTU\\ProjectSum\\DSThinkingProject\\LogRegression_pre_after_ranking\\LR_average_feature_ranking.txt'\n",
    "with open(afr_file, 'w') as f:\n",
    "    for rank, (feature, total_rank) in enumerate(average_ranking, start=1):\n",
    "        f.write(f\"{rank}. Feature: {feature}, Average Rank: {total_rank / len(feature_rankings):.2f}\\n\")"
   ],
   "metadata": {
    "collapsed": false,
    "ExecuteTime": {
     "end_time": "2024-11-01T10:59:17.144766900Z",
     "start_time": "2024-11-01T10:59:17.122761600Z"
    }
   }
  },
  {
   "cell_type": "code",
   "execution_count": 20,
   "outputs": [],
   "source": [
    "# Step 7: Aggregate the results\n",
    "final_results = {\n",
    "    'Accuracy': np.mean(results['accuracy']),\n",
    "    'F1 score': np.mean(results['f1_score']),\n",
    "    'ROC AUC': np.mean(results['roc_auc']),\n",
    "    'MCC': np.mean(results['mcc'])\n",
    "}"
   ],
   "metadata": {
    "collapsed": false,
    "ExecuteTime": {
     "end_time": "2024-11-01T11:54:55.965153900Z",
     "start_time": "2024-11-01T11:54:55.952459300Z"
    }
   }
  },
  {
   "cell_type": "code",
   "execution_count": 21,
   "outputs": [
    {
     "data": {
      "text/plain": "<Figure size 1000x600 with 1 Axes>",
      "image/png": "[encoded data removed]"
     },
     "metadata": {},
     "output_type": "display_data"
    }
   ],
   "source": [
    "# Step 8: Visualize the results\n",
    "metrics = ['Accuracy', 'F1 score', 'ROC AUC', 'MCC']\n",
    "values = [final_results[metric] for metric in metrics]\n",
    "colors = ['blue', 'green', 'red', 'cyan']\n",
    "\n",
    "\n",
    "plt.figure(figsize=(10, 6))\n",
    "plt.bar(metrics, values, color=colors)\n",
    "plt.xlabel('Metrics')\n",
    "plt.ylabel('Score')\n",
    "plt.title('Average Evaluation Metrics Over 100 Runs (Logistic Regression)')\n",
    "for i, v in enumerate(values):\n",
    "    plt.text(i, v + 0.01, f'{v:.6f}', ha='center')\n",
    "plt.tight_layout()\n",
    "plt.show()"
   ],
   "metadata": {
    "collapsed": false,
    "ExecuteTime": {
     "end_time": "2024-11-01T11:54:57.232680400Z",
     "start_time": "2024-11-01T11:54:57.107628200Z"
    }
   }
  },
  {
   "cell_type": "code",
   "execution_count": 56,
   "outputs": [],
   "source": [
    "# Save the final evaluation metrics to a text file\n",
    "fem_file = r'E:\\AAASchoolLearning\\StudyResource\\GraduateNTU\\ProjectSum\\DSThinkingProject\\LogRegression_pre_after_ranking\\LR_final_evaluation_metrics.txt'\n",
    "with open(fem_file, 'w') as f:\n",
    "    f.write(f\"Accuracy: {final_results['accuracy']:.6f}\\n\")\n",
    "    f.write(f\"F1 Score: {final_results['f1_score']:.6f}\\n\")\n",
    "    f.write(f\"ROC AUC: {final_results['roc_auc']:.6f}\\n\")\n",
    "    f.write(f\"MCC: {final_results['mcc']:.6f}\\n\")"
   ],
   "metadata": {
    "collapsed": false,
    "ExecuteTime": {
     "end_time": "2024-11-01T10:59:21.131243400Z",
     "start_time": "2024-11-01T10:59:21.098961700Z"
    }
   }
  },
  {
   "cell_type": "code",
   "execution_count": null,
   "outputs": [],
   "source": [],
   "metadata": {
    "collapsed": false
   }
  }
 ],
 "metadata": {
  "kernelspec": {
   "display_name": "Python 3",
   "language": "python",
   "name": "python3"
  },
  "language_info": {
   "codemirror_mode": {
    "name": "ipython",
    "version": 2
   },
   "file_extension": ".py",
   "mimetype": "text/x-python",
   "name": "python",
   "nbconvert_exporter": "python",
   "pygments_lexer": "ipython2",
   "version": "2.7.6"
  }
 },
 "nbformat": 4,
 "nbformat_minor": 0
}
